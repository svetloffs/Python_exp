{
  "nbformat": 4,
  "nbformat_minor": 0,
  "metadata": {
    "colab": {
      "name": "Stepik_DL_NN_CV_AlexNet_Exrcise_5_6.ipynb",
      "provenance": [],
      "authorship_tag": "ABX9TyNX57t2U7qLWsLnS3q1Ptya",
      "include_colab_link": true
    },
    "kernelspec": {
      "name": "python3",
      "display_name": "Python 3"
    },
    "accelerator": "GPU"
  },
  "cells": [
    {
      "cell_type": "markdown",
      "metadata": {
        "id": "view-in-github",
        "colab_type": "text"
      },
      "source": [
        "<a href=\"https://colab.research.google.com/github/svetloffs/Python_exp/blob/master/Stepik_DL_NN_CV_AlexNet_Exrcise_5_6.ipynb\" target=\"_parent\"><img src=\"https://colab.research.google.com/assets/colab-badge.svg\" alt=\"Open In Colab\"/></a>"
      ]
    },
    {
      "cell_type": "code",
      "metadata": {
        "id": "Mo_ishXq9SrG"
      },
      "source": [
        "import torch\n",
        "import random\n",
        "import numpy as np\n",
        "\n",
        "random.seed(0)\n",
        "np.random.seed(0)\n",
        "torch.manual_seed(0)\n",
        "torch.cuda.manual_seed(0)\n",
        "torch.backends.cudnn.deterministic = True"
      ],
      "execution_count": 1,
      "outputs": []
    },
    {
      "cell_type": "code",
      "metadata": {
        "colab": {
          "base_uri": "https://localhost:8080/"
        },
        "id": "UwOk-_xuR-u1",
        "outputId": "13a5ee80-4b99-44b3-d07a-26053599bd94"
      },
      "source": [
        "import torchvision.datasets\n",
        "\n",
        "MNIST_train = torchvision.datasets.MNIST('./', download=True, train=True)\n",
        "MNIST_test = torchvision.datasets.MNIST('./', download=True, train=False)\n",
        "\n",
        "X_train = MNIST_train.train_data\n",
        "y_train = MNIST_train.train_labels\n",
        "\n",
        "X_test = MNIST_test.test_data\n",
        "y_test = MNIST_test.test_labels\n",
        "\n",
        "len(y_train), len(y_test)"
      ],
      "execution_count": 2,
      "outputs": [
        {
          "output_type": "stream",
          "text": [
            "/usr/local/lib/python3.6/dist-packages/torchvision/datasets/mnist.py:58: UserWarning: train_data has been renamed data\n",
            "  warnings.warn(\"train_data has been renamed data\")\n",
            "/usr/local/lib/python3.6/dist-packages/torchvision/datasets/mnist.py:48: UserWarning: train_labels has been renamed targets\n",
            "  warnings.warn(\"train_labels has been renamed targets\")\n",
            "/usr/local/lib/python3.6/dist-packages/torchvision/datasets/mnist.py:63: UserWarning: test_data has been renamed data\n",
            "  warnings.warn(\"test_data has been renamed data\")\n",
            "/usr/local/lib/python3.6/dist-packages/torchvision/datasets/mnist.py:53: UserWarning: test_labels has been renamed targets\n",
            "  warnings.warn(\"test_labels has been renamed targets\")\n"
          ],
          "name": "stderr"
        },
        {
          "output_type": "execute_result",
          "data": {
            "text/plain": [
              "(60000, 10000)"
            ]
          },
          "metadata": {
            "tags": []
          },
          "execution_count": 2
        }
      ]
    },
    {
      "cell_type": "code",
      "metadata": {
        "colab": {
          "base_uri": "https://localhost:8080/",
          "height": 282
        },
        "id": "hmCUlm-t9e_X",
        "outputId": "1ae1461a-73b3-43b9-fcab-565d8e5ecfe3"
      },
      "source": [
        "import matplotlib.pyplot as plt\n",
        "plt.imshow(X_train[0, :, :])\n",
        "plt.show()\n",
        "print(y_train[0])"
      ],
      "execution_count": 3,
      "outputs": [
        {
          "output_type": "display_data",
          "data": {
            "image/png": "[encoded data removed]",
            "text/plain": [
              "<Figure size 432x288 with 1 Axes>"
            ]
          },
          "metadata": {
            "tags": [],
            "needs_background": "light"
          }
        },
        {
          "output_type": "stream",
          "text": [
            "tensor(5)\n"
          ],
          "name": "stdout"
        }
      ]
    },
    {
      "cell_type": "code",
      "metadata": {
        "colab": {
          "base_uri": "https://localhost:8080/"
        },
        "id": "eJ_WfmKUSHYe",
        "outputId": "3970ce24-53f5-463c-b39e-367c64fa736f"
      },
      "source": [
        "# преобразуем сет в вид 60000х1х28х28\n",
        "X_train = X_train.unsqueeze(1).float()\n",
        "X_test = X_test.unsqueeze(1).float()\n",
        "\n",
        "X_train.shape"
      ],
      "execution_count": 4,
      "outputs": [
        {
          "output_type": "execute_result",
          "data": {
            "text/plain": [
              "torch.Size([60000, 1, 28, 28])"
            ]
          },
          "metadata": {
            "tags": []
          },
          "execution_count": 4
        }
      ]
    },
    {
      "cell_type": "code",
      "metadata": {
        "id": "GkqdfTv-SJET"
      },
      "source": [
        "# создадим нашу сеть\n",
        "# n_net: 1-12-60-48-120-84-10 acc=0.992599\n",
        "# n_net: 1-32-128-64-128-84-10 acc=0.9932 long=5\n",
        "\n",
        "class LeNet5(torch.nn.Module):\n",
        "    def __init__(self):\n",
        "        super(LeNet5, self).__init__()\n",
        "        \n",
        "        self.conv1 = torch.nn.Conv2d(\n",
        "            in_channels=1, out_channels=32, kernel_size=5, padding=2)\n",
        "        # self.act1  = torch.nn.Tanh()\n",
        "        self.act1  = torch.nn.ELU()\n",
        "        # self.pool1 = torch.nn.AvgPool2d(kernel_size=2, stride=2)\n",
        "        self.pool1 = torch.nn.MaxPool2d(kernel_size=2, stride=2)\n",
        "       \n",
        "        self.conv2 = torch.nn.Conv2d(\n",
        "            in_channels=32, out_channels=128, kernel_size=5, padding=0)\n",
        "        # self.act2  = torch.nn.Tanh()\n",
        "        self.act2  = torch.nn.ELU()\n",
        "        # self.pool2 = torch.nn.AvgPool2d(kernel_size=2, stride=2)\n",
        "        self.pool2 = torch.nn.MaxPool2d(kernel_size=2, stride=2)\n",
        "        \n",
        "        self.conv3 = torch.nn.Conv2d(\n",
        "            in_channels=128, out_channels=64, kernel_size=3, padding=2)\n",
        "        # self.act3  = torch.nn.Tanh()\n",
        "        self.act3  = torch.nn.ELU()\n",
        "        # self.pool3 = torch.nn.AvgPool2d(kernel_size=2, stride=2)\n",
        "        self.pool3 = torch.nn.MaxPool2d(kernel_size=2, stride=2)\n",
        "\n",
        "        self.fc1   = torch.nn.Linear(3 * 3 * 64, 128)\n",
        "        # self.act4  = torch.nn.Tanh()\n",
        "        self.act4  = torch.nn.ELU()\n",
        "        \n",
        "        self.fc2   = torch.nn.Linear(128, 84)\n",
        "        self.act5  = torch.nn.Tanh()\n",
        "        # self.act5  = torch.nn.ELU()\n",
        "        \n",
        "        self.fc3   = torch.nn.Linear(84, 10)\n",
        "    \n",
        "    def forward(self, x):\n",
        "        \n",
        "        x = self.conv1(x)\n",
        "        x = self.act1(x)\n",
        "        x = self.pool1(x)\n",
        "        \n",
        "        x = self.conv2(x)\n",
        "        x = self.act2(x)\n",
        "        x = self.pool2(x)\n",
        "        \n",
        "        x = self.conv3(x)\n",
        "        x = self.act3(x)\n",
        "        x = self.pool3(x)\n",
        "\n",
        "        x = x.view(x.size(0), x.size(1) * x.size(2) * x.size(3))\n",
        "\n",
        "        x = self.fc1(x)\n",
        "        x = self.act4(x)\n",
        "        x = self.fc2(x)\n",
        "        x = self.act5(x)\n",
        "        x = self.fc3(x)\n",
        "        \n",
        "        return x\n",
        "    \n",
        "lenet5 = LeNet5()"
      ],
      "execution_count": 5,
      "outputs": []
    },
    {
      "cell_type": "code",
      "metadata": {
        "id": "cMEJNk78agTM"
      },
      "source": [
        "device = torch.device('cuda:0' if torch.cuda.is_available() else 'cpu')\n",
        "lenet5 = lenet5.to(device)"
      ],
      "execution_count": 6,
      "outputs": []
    },
    {
      "cell_type": "code",
      "metadata": {
        "id": "Uv41EeUEa06N"
      },
      "source": [
        "loss = torch.nn.CrossEntropyLoss()\n",
        "# optimizer = torch.optim.Adam(lenet5.parameters(), lr=1.0e-3)\n",
        "optimizer = torch.optim.SGD(params=lenet5.parameters(), lr=1.e-2, momentum=0.75) ### 0.75 - best acc = 0.9942"
      ],
      "execution_count": 7,
      "outputs": []
    },
    {
      "cell_type": "code",
      "metadata": {
        "id": "Bwp18xEDa-tH"
      },
      "source": [
        "batch_size = 128\n",
        "epochs = 200\n",
        "long_history = 20"
      ],
      "execution_count": 8,
      "outputs": []
    },
    {
      "cell_type": "code",
      "metadata": {
        "id": "2Vr9DdQPTMJ3"
      },
      "source": [
        "# test_accuracy_history = [i for i in range(11)]\n",
        "# np.median(np.array(test_accuracy_history[0:11])), np.mean(np.array(test_accuracy_history[0:11]))"
      ],
      "execution_count": 9,
      "outputs": []
    },
    {
      "cell_type": "code",
      "metadata": {
        "colab": {
          "base_uri": "https://localhost:8080/"
        },
        "id": "HedvrdivbB2q",
        "outputId": "26742991-9d1c-4afa-e64d-a042332ab70d"
      },
      "source": [
        "test_loss_history = []\n",
        "test_accuracy_history = []\n",
        "X_test = X_test.to(device)\n",
        "y_test = y_test.to(device)\n",
        "\n",
        "for epoch in range(epochs):\n",
        "    order = np.random.permutation(len(X_train))\n",
        "    for start_index in range(0, len(X_train), batch_size):\n",
        "        optimizer.zero_grad()\n",
        "        \n",
        "        batch_indexes = order[start_index:start_index+batch_size]\n",
        "        \n",
        "        X_batch = X_train[batch_indexes].to(device)\n",
        "        y_batch = y_train[batch_indexes].to(device)\n",
        "        \n",
        "        preds = lenet5.forward(X_batch) \n",
        "        \n",
        "        loss_value = loss(preds, y_batch)\n",
        "        loss_value.backward()\n",
        "        \n",
        "        optimizer.step()\n",
        "        \n",
        "    test_preds = lenet5.forward(X_test)\n",
        "    # из полученных данных оставим только значение accuracy и перенесем на CPU\n",
        "    test_loss_history.append(loss(test_preds, y_test).data.cpu())\n",
        "    \n",
        "    accuracy = (test_preds.argmax(dim=1) == y_test).float().mean().data.cpu()\n",
        "    test_accuracy_history.append(accuracy)\n",
        "    print(epoch, end=' ')\n",
        "    if epoch >= long_history and (test_loss_history[epoch - 1] < test_loss_history[epoch]):\n",
        "        print(np.array(test_accuracy_history).max())\n",
        "        print(test_loss_history[epoch-1])\n",
        "        break\n",
        "    if accuracy >= 0.992:\n",
        "        print(accuracy)\n",
        "print(np.array(test_accuracy_history).max())"
      ],
      "execution_count": 10,
      "outputs": [
        {
          "output_type": "stream",
          "text": [
            "0 1 2 3 tensor(0.9923)\n",
            "4 5 tensor(0.9922)\n",
            "6 tensor(0.9933)\n",
            "7 tensor(0.9926)\n",
            "8 tensor(0.9945)\n",
            "9 tensor(0.9941)\n",
            "10 tensor(0.9940)\n",
            "11 tensor(0.9938)\n",
            "12 tensor(0.9942)\n",
            "13 tensor(0.9942)\n",
            "14 tensor(0.9940)\n",
            "15 tensor(0.9938)\n",
            "16 tensor(0.9938)\n",
            "17 tensor(0.9938)\n",
            "18 tensor(0.9939)\n",
            "19 tensor(0.9938)\n",
            "20 0.9945\n",
            "tensor(0.0236)\n",
            "0.9945\n"
          ],
          "name": "stdout"
        }
      ]
    },
    {
      "cell_type": "code",
      "metadata": {
        "colab": {
          "base_uri": "https://localhost:8080/"
        },
        "id": "Npge5wPJVGhS",
        "outputId": "e5f825bb-62c3-48cf-d49b-af35dadd8a74"
      },
      "source": [
        "test_accuracy_history[5-10], test_accuracy_history[5], len(test_accuracy_history)"
      ],
      "execution_count": 11,
      "outputs": [
        {
          "output_type": "execute_result",
          "data": {
            "text/plain": [
              "(tensor(0.9938), tensor(0.9922), 21)"
            ]
          },
          "metadata": {
            "tags": []
          },
          "execution_count": 11
        }
      ]
    },
    {
      "cell_type": "code",
      "metadata": {
        "colab": {
          "base_uri": "https://localhost:8080/"
        },
        "id": "ROa86B9Rpy3a",
        "outputId": "1ce5f9f8-a289-4313-d7c8-21a32a08c94c"
      },
      "source": [
        "lenet5.forward(X_test).size()"
      ],
      "execution_count": 12,
      "outputs": [
        {
          "output_type": "execute_result",
          "data": {
            "text/plain": [
              "torch.Size([10000, 10])"
            ]
          },
          "metadata": {
            "tags": []
          },
          "execution_count": 12
        }
      ]
    },
    {
      "cell_type": "code",
      "metadata": {
        "colab": {
          "base_uri": "https://localhost:8080/"
        },
        "id": "ADD2ryP1q1WO",
        "outputId": "a2e35aa5-0a35-4e18-b250-e5c8bf159861"
      },
      "source": [
        "y_test[0]"
      ],
      "execution_count": 13,
      "outputs": [
        {
          "output_type": "execute_result",
          "data": {
            "text/plain": [
              "tensor(7, device='cuda:0')"
            ]
          },
          "metadata": {
            "tags": []
          },
          "execution_count": 13
        }
      ]
    },
    {
      "cell_type": "code",
      "metadata": {
        "colab": {
          "base_uri": "https://localhost:8080/",
          "height": 268
        },
        "id": "dVbzAsmop4yy",
        "outputId": "e9b1f99c-47e5-4b24-a839-5ec212738c2a"
      },
      "source": [
        "plt.plot(test_loss_history);"
      ],
      "execution_count": 14,
      "outputs": [
        {
          "output_type": "display_data",
          "data": {
            "image/png": "[encoded data removed]",
            "text/plain": [
              "<Figure size 432x288 with 1 Axes>"
            ]
          },
          "metadata": {
            "tags": [],
            "needs_background": "light"
          }
        }
      ]
    },
    {
      "cell_type": "code",
      "metadata": {
        "colab": {
          "base_uri": "https://localhost:8080/",
          "height": 265
        },
        "id": "ygnJHc_VqABc",
        "outputId": "cbccd81d-528e-44b8-fd97-b8d3c1044718"
      },
      "source": [
        "plt.plot(test_accuracy_history);"
      ],
      "execution_count": 15,
      "outputs": [
        {
          "output_type": "display_data",
          "data": {
            "image/png": "[encoded data removed]",
            "text/plain": [
              "<Figure size 432x288 with 1 Axes>"
            ]
          },
          "metadata": {
            "tags": [],
            "needs_background": "light"
          }
        }
      ]
    },
    {
      "cell_type": "code",
      "metadata": {
        "colab": {
          "base_uri": "https://localhost:8080/"
        },
        "id": "dki5awi2Fj_v",
        "outputId": "df2ccce7-7c0c-4cca-d42d-2b1def6083a3"
      },
      "source": [
        "print('Max accuracy:{}'.format(round(np.array(test_accuracy_history).max().astype(float),4)))"
      ],
      "execution_count": 24,
      "outputs": [
        {
          "output_type": "stream",
          "text": [
            "Max accuracy:0.9945\n"
          ],
          "name": "stdout"
        }
      ]
    }
  ]
}